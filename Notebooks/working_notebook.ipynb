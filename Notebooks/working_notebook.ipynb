{
 "cells": [
  {
   "cell_type": "markdown",
   "id": "645c1798",
   "metadata": {},
   "source": [
    "# Image Classification Using Neural Networks"
   ]
  },
  {
   "cell_type": "markdown",
   "id": "fe6616e2",
   "metadata": {},
   "source": [
    "## Project Name"
   ]
  },
  {
   "cell_type": "markdown",
   "id": "b668da7a",
   "metadata": {},
   "source": [
    "### Overview\n",
    "\n",
    "Put overview here"
   ]
  },
  {
   "cell_type": "markdown",
   "id": "0a3ab220",
   "metadata": {},
   "source": [
    "# Data Review"
   ]
  },
  {
   "cell_type": "code",
   "execution_count": null,
   "id": "bd02228b",
   "metadata": {},
   "outputs": [],
   "source": []
  },
  {
   "cell_type": "markdown",
   "id": "14b2e799",
   "metadata": {},
   "source": [
    "# Data Cleaning"
   ]
  },
  {
   "cell_type": "markdown",
   "id": "f294eed0",
   "metadata": {},
   "source": [
    "# Data Preparation"
   ]
  },
  {
   "cell_type": "markdown",
   "id": "8e97ae73",
   "metadata": {},
   "source": [
    "# Modeling"
   ]
  },
  {
   "cell_type": "markdown",
   "id": "db2ce190",
   "metadata": {},
   "source": [
    "### TensorFlow with and without transfer learning"
   ]
  },
  {
   "cell_type": "markdown",
   "id": "6310506c",
   "metadata": {},
   "source": [
    "# Model Performance"
   ]
  },
  {
   "cell_type": "markdown",
   "id": "397609b7",
   "metadata": {},
   "source": [
    "### Model Explainability\n",
    "\n",
    "Lime - https://christophm.github.io/interpretable-ml-book/lime.html"
   ]
  },
  {
   "cell_type": "markdown",
   "id": "76e7ef1e",
   "metadata": {},
   "source": [
    "# Summary"
   ]
  },
  {
   "cell_type": "markdown",
   "id": "e68abec8",
   "metadata": {},
   "source": [
    "Summary elements:\n",
    "\n",
    "Business and data understanding: what kind of data are you using, and what makes it well-suited for the business problem?\n",
    "You do not need to include any data visualizations in your summary, but consider including relevant descriptive statistics\n",
    "Data preparation: why did you choose the data preparation steps that you did, and what was the result?\n",
    "This should be specific to the kind of data you are working with. For example, if you are doing an NLP project, what did you decide to do with stopwords?\n",
    "Be sure to list the packages/libraries used to prepare the data, and why\n",
    "Modeling: what modeling package(s) did you use, which model(s) within the package(s), and what tuning steps did you take?\n",
    "For some projects there may be only one applicable package; you should still briefly explain why this was the appropriate choice\n",
    "For neural networks projects, be sure to describe your model architecture choices\n",
    "Evaluation: how well did your final model perform?\n",
    "Include one or more relevant metrics\n",
    "Be sure to briefly describe your validation approach"
   ]
  },
  {
   "cell_type": "code",
   "execution_count": null,
   "id": "387b6c3d",
   "metadata": {},
   "outputs": [],
   "source": []
  }
 ],
 "metadata": {
  "kernelspec": {
   "display_name": "enf_tf",
   "language": "python",
   "name": "enf_tf"
  },
  "language_info": {
   "codemirror_mode": {
    "name": "ipython",
    "version": 3
   },
   "file_extension": ".py",
   "mimetype": "text/x-python",
   "name": "python",
   "nbconvert_exporter": "python",
   "pygments_lexer": "ipython3",
   "version": "3.9.13"
  }
 },
 "nbformat": 4,
 "nbformat_minor": 5
}
